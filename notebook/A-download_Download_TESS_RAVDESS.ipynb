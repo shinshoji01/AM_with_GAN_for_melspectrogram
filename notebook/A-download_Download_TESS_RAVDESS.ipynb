{
 "cells": [
  {
   "cell_type": "markdown",
   "metadata": {},
   "source": [
    "---\n",
    "<font size=\"5\">Overviews</font>\n",
    "1. Introduction\n",
    "1. How to download RAVDESS dataset\n",
    "1. How to download TESS dataset"
   ]
  },
  {
   "cell_type": "markdown",
   "metadata": {},
   "source": [
    "# Introduction\n",
    "---\n",
    "In this notebook, I'm going to introduce how to download two audio datasets (RAVDESS and TESS dataset) and how I've organized the dataset folder."
   ]
  },
  {
   "cell_type": "markdown",
   "metadata": {},
   "source": [
    "# How to download RAVDESS dataset\n",
    "---\n",
    "Although, the RAVDESS dataset has 2 types of recordings; speech and song, I'm going to explain only speech dataset.\n",
    "\n",
    "1. visit [this website for speech dataset](https://www.kaggle.com/uwrfkaggler/ravdess-emotional-speech-audio).\n",
    "2. click \"Download(563 MB)\" as illustrated below.\n",
    "\n",
    "<img src=\"../data/images/Align&CroppedImages.png\" width=\"800\">\n",
    "\n",
    "3. unzip the downloaded folder and relocate the contexts except for \"audio_speech_actors_01-24\" to a selected folder.\n",
    "4. do the same thing in the [song dataset](https://www.kaggle.com/uwrfkaggler/ravdess-emotional-song-audio)"
   ]
  },
  {
   "cell_type": "markdown",
   "metadata": {},
   "source": [
    "# How to download TESS dataset\n",
    "---\n",
    "1. visit [this website](https://www.kaggle.com/ejlok1/toronto-emotional-speech-set-tess).\n",
    "2. click \"Download(268 MB)\".\n",
    "\n",
    "3. unzip the downloaded folder and relocate the contexts in the folder; `TESS Toronto emotional speech set data`."
   ]
  },
  {
   "cell_type": "markdown",
   "metadata": {},
   "source": [
    "## Some defects in the dataset\n",
    "Unfortunatlly, there are some defects in the dataset such as spelling mistake.\n",
    "You should fix it in order to use the dataset properly.\n",
    "1. folder name: `OAF_Fear` -> `OAF_fear`\n",
    "1. folder name: `OAF_Sad` -> `OAF_sad`\n",
    "1. folder name: `OAF_Pleasant_surprise` -> `OAF_surprised`\n",
    "1. folder name: `YAF_pleasant_surprised` -> `YAF_surprised`\n",
    "1. file   name: `OAF_neutral/OA_bite_neutral.wav` -> `OAF_neutral/OAF_bite_neutral.wav`"
   ]
  }
 ],
 "metadata": {
  "kernelspec": {
   "display_name": "Python 3",
   "language": "python",
   "name": "python3"
  },
  "language_info": {
   "codemirror_mode": {
    "name": "ipython",
    "version": 3
   },
   "file_extension": ".py",
   "mimetype": "text/x-python",
   "name": "python",
   "nbconvert_exporter": "python",
   "pygments_lexer": "ipython3",
   "version": "3.6.9"
  }
 },
 "nbformat": 4,
 "nbformat_minor": 4
}
